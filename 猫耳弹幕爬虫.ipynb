{
 "cells": [
  {
   "cell_type": "code",
   "execution_count": null,
   "id": "fe9d9d4e-7e78-44dd-8647-891bd5d7d507",
   "metadata": {},
   "outputs": [],
   "source": [
    "import requests\n",
    "import xml.etree.ElementTree as ET\n",
    "import pandas as pd\n",
    "from snownlp import SnowNLP\n",
    "\n",
    "# 广播剧 sound_id 列表\n",
    "#xxxxxx替换为所示链接的数字，可提供多个idhttps://www.missevan.com/sound/player?id=11105876\n",
    "sound_ids = ['xxxxxx'] \n",
    "\n",
    "def fetch_danmaku(sound_id):\n",
    "    url = f\"https://www.missevan.com/sound/getdm?soundid={sound_id}\"\n",
    "    response = requests.get(url)\n",
    "    response.encoding = 'utf-8'\n",
    "    return response.text if response.status_code == 200 else None\n",
    "\n",
    "def parse_danmaku(xml_content, sound_id):\n",
    "    root = ET.fromstring(xml_content)\n",
    "    result = []\n",
    "    for d in root.findall('d'):\n",
    "        p = d.get('p').split(',')\n",
    "        time = float(p[0])\n",
    "        uid = p[6]\n",
    "        text = d.text\n",
    "        if text:\n",
    "            try:\n",
    "                sentiment = SnowNLP(text).sentiments\n",
    "                result.append({'sound_id': sound_id, 'time': time, 'uid': uid, 'content': text, 'sentiment': sentiment})\n",
    "            except:\n",
    "                continue\n",
    "    return result\n",
    "\n",
    "# 整合所有弹幕\n",
    "all_danmakus = []\n",
    "for sid in sound_ids:\n",
    "    xml_data = fetch_danmaku(sid)\n",
    "    if xml_data:\n",
    "        all_danmakus.extend(parse_danmaku(xml_data, sid))\n",
    "\n",
    "df = pd.DataFrame(all_danmakus)\n",
    "# 整合所有弹幕\n",
    "all_danmakus = []\n",
    "for sid in sound_ids:\n",
    "    xml_data = fetch_danmaku(sid)\n",
    "    if xml_data:\n",
    "        all_danmakus.extend(parse_danmaku(xml_data, sid))\n",
    "\n",
    "df = pd.DataFrame(all_danmakus)\n",
    "df.to_csv(r'D:/danmakus.csv', index=False, encoding='utf-8-sig') #自行选择存储地址\n",
    "print(\"爬取完成，共获取弹幕数：\", len(df))"
   ]
  }
 ],
 "metadata": {
  "kernelspec": {
   "display_name": "Python 3 (ipykernel)",
   "language": "python",
   "name": "python3"
  },
  "language_info": {
   "codemirror_mode": {
    "name": "ipython",
    "version": 3
   },
   "file_extension": ".py",
   "mimetype": "text/x-python",
   "name": "python",
   "nbconvert_exporter": "python",
   "pygments_lexer": "ipython3",
   "version": "3.10.16"
  }
 },
 "nbformat": 4,
 "nbformat_minor": 5
}
